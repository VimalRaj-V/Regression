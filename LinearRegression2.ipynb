{
 "cells": [
  {
   "cell_type": "markdown",
   "id": "599e0d3c",
   "metadata": {},
   "source": [
    "# Regression\n"
   ]
  },
  {
   "cell_type": "code",
   "execution_count": 194,
   "id": "2f610322",
   "metadata": {},
   "outputs": [],
   "source": [
    "import pandas as pd\n",
    "import matplotlib.pyplot as plt\n",
    "import time"
   ]
  },
  {
   "cell_type": "code",
   "execution_count": 195,
   "id": "27cbcad4",
   "metadata": {},
   "outputs": [],
   "source": [
    "def mean(feature):\n",
    "    n = len(feature)\n",
    "    return(sum(feature)/n)"
   ]
  },
  {
   "cell_type": "code",
   "execution_count": 196,
   "id": "5a7f3aca",
   "metadata": {},
   "outputs": [],
   "source": [
    "def std(feature, mean):\n",
    "    n = len(feature)\n",
    "    diff = [0]*n\n",
    "    for i in range(n):\n",
    "        diff[i] = (feature[i] - mean)**2\n",
    "    \n",
    "    return(((sum(diff)/(n-1))**0.5))"
   ]
  },
  {
   "cell_type": "code",
   "execution_count": 197,
   "id": "6d0e6058",
   "metadata": {},
   "outputs": [],
   "source": [
    "def normalise (feature, mean, std):\n",
    "    return((feature - mean)/std)"
   ]
  },
  {
   "cell_type": "code",
   "execution_count": 198,
   "id": "585b9f99",
   "metadata": {},
   "outputs": [],
   "source": [
    "file1 = open(\"ex1data2.txt\",\"r\")\n",
    "lines = file1.readlines()\n",
    "\n",
    "n = len(lines)"
   ]
  },
  {
   "cell_type": "code",
   "execution_count": 199,
   "id": "6abb764a",
   "metadata": {},
   "outputs": [],
   "source": [
    "sq_feet = [0]*n\n",
    "rooms = [0]*n\n",
    "price = [0]*n"
   ]
  },
  {
   "cell_type": "code",
   "execution_count": 200,
   "id": "8cd2c5f1",
   "metadata": {},
   "outputs": [],
   "source": [
    "for i in range(n):\n",
    "    content = lines[i].split(\",\")\n",
    "    sq_feet[i] = int(content[0])\n",
    "    rooms[i] = int(content[1])\n",
    "    price[i] = int(content[2])"
   ]
  },
  {
   "cell_type": "code",
   "execution_count": 201,
   "id": "87ed64eb",
   "metadata": {},
   "outputs": [],
   "source": [
    "mean_sq_feet = mean(sq_feet)\n",
    "mean_rooms = mean(rooms)\n",
    "mean_price = mean(price)\n",
    "\n",
    "std_sq_feet = std(sq_feet, mean_sq_feet)\n",
    "std_rooms = std(rooms, mean_rooms)\n",
    "std_price = std(price, mean_price)"
   ]
  },
  {
   "cell_type": "code",
   "execution_count": 202,
   "id": "3b66ff47",
   "metadata": {},
   "outputs": [],
   "source": [
    "for i in range(n):\n",
    "    sq_feet[i] = normalise(sq_feet[i], mean_sq_feet, std_sq_feet)\n",
    "    rooms[i] = normalise(rooms[i], mean_rooms, std_rooms)\n"
   ]
  },
  {
   "cell_type": "markdown",
   "id": "8aa3551b",
   "metadata": {},
   "source": [
    "## Gradient Descent"
   ]
  },
  {
   "cell_type": "code",
   "execution_count": 207,
   "id": "f9d5fa13",
   "metadata": {},
   "outputs": [],
   "source": [
    "w0 = 0\n",
    "w1 = 0\n",
    "w2 = 0\n",
    "\n",
    "learning_rate = 0.1\n",
    "epoch = 75\n",
    "costfn = [0]*epoch"
   ]
  },
  {
   "cell_type": "code",
   "execution_count": 208,
   "id": "91c2e620",
   "metadata": {},
   "outputs": [],
   "source": [
    "for i in range(epoch):\n",
    "    del_costfnBydel_w0 = 0\n",
    "    del_costfnBydel_w1 = 0\n",
    "    del_costfnBydel_w2= 0\n",
    "    \n",
    "    for j in range(n):\n",
    "        y_pred = w0 + (w1*sq_feet[j]) + (w2*rooms[j])\n",
    "        costfn[i] += (y_pred - price[j])**2\n",
    "        del_costfnBydel_w0 += (y_pred - price[j])\n",
    "        del_costfnBydel_w1 += (sq_feet[j]*(y_pred - price[j]))\n",
    "        del_costfnBydel_w2 += (rooms[j]*(y_pred- price[j]))\n",
    "        \n",
    "        \n",
    "    w0 += -learning_rate*(del_costfnBydel_w0/n)\n",
    "    w1 += -learning_rate*(del_costfnBydel_w1/n)\n",
    "    w2 += -learning_rate*(del_costfnBydel_w2/n)\n"
   ]
  },
  {
   "cell_type": "markdown",
   "id": "fcd7ced4",
   "metadata": {},
   "source": [
    "# Iteration diagram"
   ]
  },
  {
   "cell_type": "code",
   "execution_count": 209,
   "id": "71e44f98",
   "metadata": {},
   "outputs": [
    {
     "data": {
      "image/png": "[encoded data removed]",
      "text/plain": [
       "<Figure size 432x288 with 1 Axes>"
      ]
     },
     "metadata": {
      "needs_background": "light"
     },
     "output_type": "display_data"
    }
   ],
   "source": [
    "Iter = list(range(epoch))\n",
    "plt.plot(Iter, costfn)\n",
    "plt.show()"
   ]
  },
  {
   "cell_type": "markdown",
   "id": "142f17c1",
   "metadata": {},
   "source": [
    "# Testing"
   ]
  },
  {
   "cell_type": "code",
   "execution_count": 212,
   "id": "685cd509",
   "metadata": {},
   "outputs": [
    {
     "name": "stdout",
     "output_type": "stream",
     "text": [
      "191055.52309915825\n"
     ]
    }
   ],
   "source": [
    "# Give you input here\n",
    "sqfeet = 2000\n",
    "room = 3\n",
    "\n",
    "\n",
    "nor_sqfeet = normalise(sqfeet, mean_sq_feet, std_sq_feet)\n",
    "nor_rooms = normalise(room, mean_rooms, std_rooms)\n",
    "predicted_price = w0 + (w1*nor_sqfeet) + (w2*nor_rooms)\n",
    "print(predicted_price)"
   ]
  },
  {
   "cell_type": "code",
   "execution_count": null,
   "id": "257b65c5",
   "metadata": {},
   "outputs": [],
   "source": []
  }
 ],
 "metadata": {
  "kernelspec": {
   "display_name": "Python 3 (ipykernel)",
   "language": "python",
   "name": "python3"
  },
  "language_info": {
   "codemirror_mode": {
    "name": "ipython",
    "version": 3
   },
   "file_extension": ".py",
   "mimetype": "text/x-python",
   "name": "python",
   "nbconvert_exporter": "python",
   "pygments_lexer": "ipython3",
   "version": "3.9.7"
  },
  "widgets": {
   "application/vnd.jupyter.widget-state+json": {
    "state": {},
    "version_major": 2,
    "version_minor": 0
   }
  }
 },
 "nbformat": 4,
 "nbformat_minor": 5
}
